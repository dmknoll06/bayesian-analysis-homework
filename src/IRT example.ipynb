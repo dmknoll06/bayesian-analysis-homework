{
 "metadata": {
  "name": "IRT example"
 },
 "nbformat": 3,
 "nbformat_minor": 0,
 "worksheets": [
  {
   "cells": [
    {
     "cell_type": "raw",
     "metadata": {},
     "source": [
      "This code attempts to infer underlying student proficiencies based on a set of responses to assessment questions"
     ]
    },
    {
     "cell_type": "code",
     "collapsed": false,
     "input": [
      "%pylab inline\n",
      "\n",
      "import numpy\n",
      "from numpy.core.umath import exp\n",
      "from numpy.numarray import repeat, reshape\n",
      "import pymc\n",
      "from numpy.core.multiarray import zeros, dot\n",
      "from pymc.MCMC import MCMC\n",
      "\n",
      "# some basic setup.\n",
      "\n",
      "# the scenario is that we have a population of 10 students that we have been tracking\n",
      "# in our model, we have 2 variables that correspond to student proficiency.\n",
      "\n",
      "# note that we have no idea what they \"mean\" really, other than that the model produces better results with\n",
      "# 2 variables vs 1 or 3 at our current stage of understanding\n",
      "\n",
      "# they might possibly correspond to real world abilities though\n",
      "\n",
      "numquestions = 300 # number of test items being simulated\n",
      "numpeople = 10 # number of participants\n",
      "numthetas = 2 # number of latent proficiency variables\n",
      "\n",
      "# this is the \"true\" ability data for the student population\n",
      "# this was used to generate the assessment results\n",
      "abilities = numpy.load(\"abilities.npy\")\n",
      "\n",
      "# a new sample of assessment question results for these students\n",
      "correctness = numpy.load(\"correct.npy\")\n"
     ],
     "language": "python",
     "metadata": {},
     "outputs": [
      {
       "output_type": "stream",
       "stream": "stdout",
       "text": [
        "\n",
        "Welcome to pylab, a matplotlib-based Python environment [backend: module://IPython.zmq.pylab.backend_inline].\n",
        "For more information, type 'help(pylab)'.\n"
       ]
      }
     ],
     "prompt_number": 40
    },
    {
     "cell_type": "code",
     "collapsed": false,
     "input": [
      "# quick preview of the student performance data. 8 is the highest proficiency..\n",
      "print \"correctness is an array with shape {0} of {1}\".format(correctness.shape, correctness.dtype)\n",
      "\n",
      "# correcness array has a row per question, so transpose it (we want row per student)\n",
      "for counter, row in enumerate(correctness.T):\n",
      "    print \"student {0}: {1} correct\".format(counter, sum(1 for item in row if item))\n"
     ],
     "language": "python",
     "metadata": {},
     "outputs": [
      {
       "output_type": "stream",
       "stream": "stdout",
       "text": [
        "correctness is an array with shape (300, 10) of bool\n",
        "student 0: 157 correct\n",
        "student 1: 76 correct\n",
        "student 2: 178 correct\n",
        "student 3: 80 correct\n",
        "student 4: 195 correct\n",
        "student 5: 115 correct\n",
        "student 6: 211 correct\n",
        "student 7: 131 correct\n",
        "student 8: 232 correct\n",
        "student 9: 156 correct\n"
       ]
      }
     ],
     "prompt_number": 41
    },
    {
     "cell_type": "code",
     "collapsed": false,
     "input": [
      "print \"abilities is an array with shape {0} of {1}\".format(abilities.shape, abilities.dtype)\n",
      "# so one row per latent proficiency variable, and one column per student\n",
      "# 1 is good, -1 is bad\n",
      "\n",
      "for counter, row in enumerate(abilities.T):\n",
      "    print \"student {0}: abilities are {1:.2f} and {2:.2f} (sum = {3:.2f})\".format(counter, row[0], row[1], row[0] + row[1])\n",
      "\n",
      "# you can see that our previous ability measures align well to the new observed results.\n",
      "# the highest ability students are 8 and 6, the lowest are 1 and 3.\n",
      "# this corresponds roughly the the correctness data in the sample"
     ],
     "language": "python",
     "metadata": {},
     "outputs": [
      {
       "output_type": "stream",
       "stream": "stdout",
       "text": [
        "abilities is an array with shape (2, 10) of float64\n",
        "student 0: abilities are -1.00 and 1.00 (sum = 0.00)\n",
        "student 1: abilities are -0.78 and -1.00 (sum = -1.78)\n",
        "student 2: abilities are -0.56 and 1.00 (sum = 0.44)\n",
        "student 3: abilities are -0.33 and -1.00 (sum = -1.33)\n",
        "student 4: abilities are -0.11 and 1.00 (sum = 0.89)\n",
        "student 5: abilities are 0.11 and -1.00 (sum = -0.89)\n",
        "student 6: abilities are 0.33 and 1.00 (sum = 1.33)\n",
        "student 7: abilities are 0.56 and -1.00 (sum = -0.44)\n",
        "student 8: abilities are 0.78 and 1.00 (sum = 1.78)\n",
        "student 9: abilities are 1.00 and -1.00 (sum = 0.00)\n"
       ]
      }
     ],
     "prompt_number": 42
    },
    {
     "cell_type": "code",
     "collapsed": false,
     "input": [
      "# time to do some math to update our ability measures on the basis of the new assessment data\n",
      "# first, set up our model\n",
      "\n",
      "theta_initial = zeros((numthetas, numpeople))\n",
      "theta = pymc.Normal(\"theta\", mu=0, tau=1, value=theta_initial, observed=0)\n",
      "\n",
      "# these are the IRT params\n",
      "a = pymc.Normal(\"a\", mu=1, tau=1, value=[[0.0] * numthetas] * numquestions)\n",
      "b = pymc.Normal(\"b\", mu=0, tau=1, value=[0.0] * numquestions)\n",
      "\n",
      "# take vectors theta/a/b, return a vector of probabilities of each person getting each question correct\n",
      "# see http://en.wikipedia.org/wiki/Rasch_model\n",
      "@pymc.deterministic\n",
      "def sigmoid(theta=theta, a=a, b=b):\n",
      "    # reshape changes array shape without changing data\n",
      "    # repeat duplicates each element of an array the specified number of times along the specified axis\n",
      "    bs = repeat(reshape(b, (len(b), 1)), numpeople, 1)\n",
      "    # print b\n",
      "    # print \"====\"\n",
      "    # print bs\n",
      "    # print b.shape, a.shape, theta.shape, bs.shape\n",
      "    value = 1.0 / (1.0 + exp(bs - dot(a, theta)))\n",
      "    # print \"====\"\n",
      "    # print value\n",
      "    return value\n",
      "\n",
      "# bernoulli is a good distribution for this, discrete values of success or failure.\n",
      "# we want to find the right sigmoid to fit our correctness array. this will give us\n",
      "# us inferred values for student competency\n",
      "correct = pymc.Bernoulli('correct', p=sigmoid, value=correctness, observed=1)\n"
     ],
     "language": "python",
     "metadata": {},
     "outputs": [],
     "prompt_number": 48
    },
    {
     "cell_type": "markdown",
     "metadata": {},
     "source": [
      "MCMC = Markov Chain Monte Carlo. Basically, we're going to do a bunch of samples to try to fit to our observed correctness data\n",
      "\n",
      "see http://en.wikipedia.org/wiki/Markov_chain_Monte_Carlo\n"
     ]
    },
    {
     "cell_type": "code",
     "collapsed": false,
     "input": [
      "model = MCMC([a,b,theta,sigmoid,correct])\n",
      "\n",
      "model.sample(iter=20000, burn=15000)"
     ],
     "language": "python",
     "metadata": {},
     "outputs": [
      {
       "output_type": "stream",
       "stream": "stdout",
       "text": [
        " \r",
        "[****************100%******************]  20000 of 20000 complete"
       ]
      },
      {
       "output_type": "stream",
       "stream": "stdout",
       "text": [
        "\n"
       ]
      }
     ],
     "prompt_number": 49
    },
    {
     "cell_type": "code",
     "collapsed": false,
     "input": [
      "# try some different values of i to see the progress of the trace\n",
      "# max = 4999\n",
      "i = 4999\n",
      "stepsize = 20\n",
      "ylim((-3,3))\n",
      "plot(abilities.T, \"--\")\n",
      "trace = theta.trace()\n",
      "sample = trace[i:i+stepsize,:,:].mean(0).T\n",
      "plot(sample)\n",
      "\n",
      "# here's a plot from our results\n",
      "# x axis is student #, y axis is competency value\n",
      "\n",
      "# there are two competencies: one alternates from 1 to -1\n",
      "# the other is continuous\n",
      "# the dotted line plots the true value of these\n",
      "\n",
      "\n",
      "# the solid cyan line is trying to fit the first variable to the observed assessment results\n",
      "# the solid red line is trying to fit the second variable to the observed assessment results"
     ],
     "language": "python",
     "metadata": {},
     "outputs": [
      {
       "output_type": "pyout",
       "prompt_number": 56,
       "text": [
        "[<matplotlib.lines.Line2D at 0x11260c0d0>,\n",
        " <matplotlib.lines.Line2D at 0x112622150>]"
       ]
      },
      {
       "output_type": "display_data",
       "png": "[encoded data removed]"
      }
     ],
     "prompt_number": 56
    },
    {
     "cell_type": "code",
     "collapsed": false,
     "input": [
      "# slice samples from the run out of the trace for the specified student\n",
      "student_num = 0\n",
      "theta_samples = model.trace('theta')[:]\n",
      "\n",
      "# get value for each of our latent variables\n",
      "theta_1_samples = theta_samples[:, 0, student_num]\n",
      "theta_2_samples = theta_samples[:, 1, student_num]\n",
      "\n",
      "#print all[1000][0][student_num]\n",
      "#print theta_1_samples[1000]\n"
     ],
     "language": "python",
     "metadata": {},
     "outputs": [
      {
       "output_type": "stream",
       "stream": "stdout",
       "text": [
        "-0.806690651317\n",
        "-0.806690651317\n"
       ]
      }
     ],
     "prompt_number": 97
    },
    {
     "cell_type": "code",
     "collapsed": false,
     "input": [
      "#Next todo: run some probablility distributions for trace values\n",
      "\n",
      "print sum(theta_1_samples)/len(theta_1_samples)\n",
      "print sum(theta_2_samples)/len(theta_2_samples)\n",
      "\n",
      "# actuals for student 0 are -1 and 1\n"
     ],
     "language": "python",
     "metadata": {},
     "outputs": [
      {
       "output_type": "stream",
       "stream": "stdout",
       "text": [
        "-1.33640922408\n",
        "1.49009604212\n"
       ]
      }
     ],
     "prompt_number": 104
    },
    {
     "cell_type": "code",
     "collapsed": false,
     "input": [],
     "language": "python",
     "metadata": {},
     "outputs": []
    }
   ],
   "metadata": {}
  }
 ]
}